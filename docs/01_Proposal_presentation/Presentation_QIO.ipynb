{
 "cells": [
  {
   "cell_type": "markdown",
   "metadata": {
    "slideshow": {
     "slide_type": "slide"
    }
   },
   "source": [
    "<center>\n",
    "\n",
    "    \n",
    "# Proposal Presentation\n",
    "\n",
    "### QIO Geo-Detection Project\n",
    "\n",
    "\n",
    "##### Aditya Sharma, Jingyun Chen, \n",
    "\n",
    "##### Milos Milic, Socorro Dominguez\n",
    "\n",
    "\n",
    "\n",
    "<img src=\"../00_images/00_UBC_QIO_logos.jpg\" width=\"500\">\n"
   ]
  },
  {
   "cell_type": "markdown",
   "metadata": {
    "slideshow": {
     "slide_type": "slide"
    }
   },
   "source": [
    "### Table of Contents\n",
    "\n",
    "* Introduction\n",
    "* Business problem\n",
    "* Objective\n",
    "* Final product\n",
    "* Workflow\n",
    "* Raw data\n",
    "* Data science techniques\n",
    "* Challenges\n",
    "* Timeline\n",
    "* Summary"
   ]
  },
  {
   "cell_type": "markdown",
   "metadata": {
    "slideshow": {
     "slide_type": "slide"
    }
   },
   "source": [
    "### Minerai de fer du Québec (Quebec Iron Ore)\n",
    "\n",
    "* Mining company based in Quebec that specializes in iron ore extraction and processing.\n",
    "\n",
    "* Around 500 specialists in various fields of iron ore extraction.\n",
    "\n",
    "* Collect 100GB of production data per day.\n",
    "\n",
    "* Want to employ machine learning to: \n",
    "    * increase efficiency (6M tonnes to 7M tonnes of iron)\n",
    "    * use stored data"
   ]
  },
  {
   "cell_type": "markdown",
   "metadata": {
    "slideshow": {
     "slide_type": "slide"
    }
   },
   "source": [
    "### Business Problem\n",
    "\n",
    "* Current operations need a trained geologist to identify rock types.\n",
    "\n",
    "* Long term goal would be a tool that identifies rock types from an image in real time, so that operators do not always have to depend on a geologist.\n",
    "\n",
    "* For now, they need a prototype that will help: \n",
    "    * Assist operations in identifying boundaries between blasted rock types at an active mining face.\n",
    "    * Identify which category the rocks fall into (8 types of rock that later classify into ore or waste).\n",
    "        \n",
    "* The types of rock would come from the training data images that have been previously classified by the experts.\n",
    "\n",
    "* If prototype is successful, they would move forward to other ML projects."
   ]
  },
  {
   "cell_type": "markdown",
   "metadata": {
    "slideshow": {
     "slide_type": "slide"
    }
   },
   "source": [
    "## Business Problem\n",
    "\n",
    "<img src=\"../00_images/00_first_presentation/00_business_problem.jpg\" width=\"500\">"
   ]
  },
  {
   "cell_type": "markdown",
   "metadata": {
    "slideshow": {
     "slide_type": "slide"
    }
   },
   "source": [
    "## Objective\n",
    "\n",
    "* Automatic detection of 8 different rock types through image segmentation and classification.\n",
    "\n",
    "<img src=\"../00_images/01_proposal_presentation/01_rock_img_output.jpg\" width=\"1200\">"
   ]
  },
  {
   "cell_type": "markdown",
   "metadata": {
    "slideshow": {
     "slide_type": "slide"
    }
   },
   "source": [
    "## Final Data Product\n",
    "\n",
    "- A python package (prototype)\n",
    "    * Input: images of blasted rocks taken at the mining field.\n",
    "    \n",
    "    * Output: images with rock type annotations \n",
    "        (ideally, annotated rock types using polygons).\n",
    "        \n",
    "<img src=\"../00_images/01_proposal_presentation/02_py_package.jpg\" width=\"1000\">\n"
   ]
  },
  {
   "cell_type": "markdown",
   "metadata": {
    "slideshow": {
     "slide_type": "slide"
    }
   },
   "source": [
    "## Final Data Product (Input)\n",
    "<img src=\"../00_images/01_proposal_presentation/03_rock_img.jpg\" width=\"600\">"
   ]
  },
  {
   "cell_type": "markdown",
   "metadata": {
    "slideshow": {
     "slide_type": "slide"
    }
   },
   "source": [
    "## Final Data Product (Output)\n",
    "<img src=\"../00_images/01_proposal_presentation/03_rock_img_polygons.jpg\" width=\"600\">"
   ]
  },
  {
   "cell_type": "markdown",
   "metadata": {
    "slideshow": {
     "slide_type": "slide"
    }
   },
   "source": [
    "## Project Workflow\n",
    "\n",
    "<img src=\"../00_images/01_proposal_presentation/05_workflow.png\" width=\"900\">"
   ]
  },
  {
   "cell_type": "markdown",
   "metadata": {
    "slideshow": {
     "slide_type": "slide"
    }
   },
   "source": [
    "## Raw Data\n",
    "\n",
    "* Currently:  ~500 original images, ~500 hand-annotated reference images.\n",
    "\n",
    "* Features: 8 rock types.\n",
    "\n",
    "* Issues: \n",
    "    * Hand-annotated images cannot be used for training a model.\n",
    "    * Images contain background information (e.g., sky, ground, snow).\n",
    "  "
   ]
  },
  {
   "cell_type": "markdown",
   "metadata": {
    "slideshow": {
     "slide_type": "slide"
    }
   },
   "source": [
    "## Raw Data\n",
    "<img src=\"../00_images/01_proposal_presentation/04_rock_img_hand_annotated.jpg\" width=\"600\">"
   ]
  },
  {
   "cell_type": "markdown",
   "metadata": {
    "slideshow": {
     "slide_type": "slide"
    }
   },
   "source": [
    "## Data Science Techniques\n",
    "\n",
    "**Preprocessing of the data**\n",
    "* Image labelling software (LabelMe: open source Polygonal Annotation tool)\n",
    "* Image processing (OpenCV: open source Computer Vision library)\n",
    "    \n",
    "** Model training**\n",
    "* CNN for object detection for now (looking into other techniques) \n",
    "* Semantic Segmentation using CNNs (to be further researched)"
   ]
  },
  {
   "cell_type": "markdown",
   "metadata": {
    "slideshow": {
     "slide_type": "slide"
    }
   },
   "source": [
    "## Difficulties & Challenges\n",
    "\n",
    "* Segmentation algorithm may remove parts of the ore face and may keep parts of the ground.\n",
    "\n",
    "\n",
    "* Some training images may be unsuitable for training (bad lighting/angles).\n",
    "\n",
    "\n",
    "* May not have enough training data for 8 different rock types.\n",
    "\n",
    "\n",
    "* Model may have a poor accuracy.\n",
    "\n",
    "\n",
    "* Thinking about the input and output format.\n",
    "\n",
    "\n",
    "* Handling fine-grained differences from textures.\n",
    "\n",
    "\n",
    "* Thinking about what is possible and what is not in the given time period."
   ]
  },
  {
   "cell_type": "markdown",
   "metadata": {
    "slideshow": {
     "slide_type": "slide"
    }
   },
   "source": [
    "## Timeline\n",
    "\n",
    "Week 1: EDA and Proposal Presentation (April 26th)  \n",
    "\n",
    "Week 2: End of Proposal Document (May 3rd) \n",
    "\n",
    "Week 3: Preprocess original data \n",
    "\n",
    "Week 4 - 7: Create/train/evaluate/update model\n",
    "\n",
    "Week 8: Finish data product (Presentation on June 17/18) \n",
    "\n",
    "Week 9: Polish data product \n",
    "\n",
    "Week 10: End of project"
   ]
  },
  {
   "cell_type": "markdown",
   "metadata": {
    "slideshow": {
     "slide_type": "slide"
    }
   },
   "source": [
    "## Summary\n",
    "\n",
    "* Quebec Iron Ore currently collects huge amounts of production data (100GB per day) and would like to leverage data science solutions in order to optimize different stages in the mining process.\n",
    "* We need a way to classify rock types using object detection and segmentation.\n",
    "* The final product would be a python package with:\n",
    "    * Input: an image of the blasted rock face.\n",
    "    * Output: an image with annotated boundaries labeling rock types.\n",
    "* There are some unique challenges due to similarity in the texture, color and other properties in different rock types."
   ]
  },
  {
   "cell_type": "markdown",
   "metadata": {
    "slideshow": {
     "slide_type": "slide"
    }
   },
   "source": [
    "## Thank you!!"
   ]
  }
 ],
 "metadata": {
  "celltoolbar": "Slideshow",
  "kernelspec": {
   "display_name": "Python 3",
   "language": "python",
   "name": "python3"
  },
  "language_info": {
   "codemirror_mode": {
    "name": "ipython",
    "version": 3
   },
   "file_extension": ".py",
   "mimetype": "text/x-python",
   "name": "python",
   "nbconvert_exporter": "python",
   "pygments_lexer": "ipython3",
   "version": "3.6.8"
  }
 },
 "nbformat": 4,
 "nbformat_minor": 2
}
